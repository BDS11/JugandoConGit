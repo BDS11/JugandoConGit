{
 "cells": [
  {
   "cell_type": "markdown",
   "metadata": {},
   "source": [
    "# Aqui va MarkDown\n",
    "## Soporta casi todos los comandos\n",
    "### Pero debe de poner arriba \"MarkDown\",\n",
    "Si no lo toma como codigo programa"
   ]
  },
  {
   "cell_type": "markdown",
   "metadata": {},
   "source": [
    "> [ ]. es el kernel, que es el poder del computo para resolver la CELDA\n",
    "ese \"poder\"con una configuracion especial, puede ser una granja de servidores\n",
    "a su disposicion para triturar el algoritmo, base de datos, etc."
   ]
  },
  {
   "cell_type": "code",
   "execution_count": 1,
   "metadata": {},
   "outputs": [
    {
     "name": "stdout",
     "output_type": "stream",
     "text": [
      "Hola mundo en Python 3\n"
     ]
    }
   ],
   "source": [
    "print(\"Hola mundo en Python 3\")"
   ]
  },
  {
   "cell_type": "code",
   "execution_count": null,
   "metadata": {},
   "outputs": [],
   "source": [
    "La celda se ejecuta con CTR+Enter"
   ]
  }
 ],
 "metadata": {
  "kernelspec": {
   "display_name": "Python 3",
   "language": "python",
   "name": "python3"
  },
  "language_info": {
   "codemirror_mode": {
    "name": "ipython",
    "version": 3
   },
   "file_extension": ".py",
   "mimetype": "text/x-python",
   "name": "python",
   "nbconvert_exporter": "python",
   "pygments_lexer": "ipython3",
   "version": "3.6.4"
  }
 },
 "nbformat": 4,
 "nbformat_minor": 2
}
